{
 "cells": [
  {
   "cell_type": "code",
   "execution_count": 18,
   "metadata": {},
   "outputs": [
    {
     "name": "stdout",
     "output_type": "stream",
     "text": [
      "hello paji\n"
     ]
    }
   ],
   "source": [
    "x = \"hello paji\"\n",
    "def fun():\n",
    "    print(x)\n",
    "fun()"
   ]
  },
  {
   "cell_type": "code",
   "execution_count": 20,
   "metadata": {},
   "outputs": [
    {
     "name": "stdout",
     "output_type": "stream",
     "text": [
      "{'__name__': '__main__', '__doc__': 'Automatically created module for IPython interactive environment', '__package__': None, '__loader__': None, '__spec__': None, '__builtin__': <module 'builtins' (built-in)>, '__builtins__': <module 'builtins' (built-in)>, '_ih': ['', '[1,2,3]/[1,2,3]', '1/2', '[1,2,3]*[1,2,3]', '[1,2,3] * [1,2,3]', '[1,2,3]*2', '[1,2,3]*[4,5,6]', 'sum([1,2,3])/sum([1,2,3])', 'sum([1,2,3.2])/sum([1,2,3])', 'sum([1,2,4])/sum([1,2,3])', 'x = 23\\ndef fun(x):\\n    print(x)', 'x = 23\\ndef fun(x):\\n    print(x)\\nfun(23)', 'x = 23\\ndef fun(x):\\n    print(x)\\nfun(24)', 'x = 23\\ndef fun():\\n    print(x)', 'x = 23\\ndef fun():\\n    print(x)', 'x = 23\\ndef fun():\\n    print(x)', 'x = 23\\ndef fun():\\n    global x\\n    print(x)', 'x = 23\\ndef fun():\\n    print(x)', 'x = \"hello paji\"\\ndef fun():\\n    print(x)\\nfun()', '#if you want to see all the local variables and global variable\\nlocals()', '#if you want to see all the local variables and global variable\\nprint(locals())\\nprint(globals())'], '_oh': {2: 0.5, 5: [1, 2, 3, 1, 2, 3], 7: 1.0, 8: 1.0333333333333334, 9: 1.1666666666666667, 19: {...}}, '_dh': ['/Users/rohankittu/Desktop/rohan/back_end/python_level_2'], 'In': ['', '[1,2,3]/[1,2,3]', '1/2', '[1,2,3]*[1,2,3]', '[1,2,3] * [1,2,3]', '[1,2,3]*2', '[1,2,3]*[4,5,6]', 'sum([1,2,3])/sum([1,2,3])', 'sum([1,2,3.2])/sum([1,2,3])', 'sum([1,2,4])/sum([1,2,3])', 'x = 23\\ndef fun(x):\\n    print(x)', 'x = 23\\ndef fun(x):\\n    print(x)\\nfun(23)', 'x = 23\\ndef fun(x):\\n    print(x)\\nfun(24)', 'x = 23\\ndef fun():\\n    print(x)', 'x = 23\\ndef fun():\\n    print(x)', 'x = 23\\ndef fun():\\n    print(x)', 'x = 23\\ndef fun():\\n    global x\\n    print(x)', 'x = 23\\ndef fun():\\n    print(x)', 'x = \"hello paji\"\\ndef fun():\\n    print(x)\\nfun()', '#if you want to see all the local variables and global variable\\nlocals()', '#if you want to see all the local variables and global variable\\nprint(locals())\\nprint(globals())'], 'Out': {2: 0.5, 5: [1, 2, 3, 1, 2, 3], 7: 1.0, 8: 1.0333333333333334, 9: 1.1666666666666667, 19: {...}}, 'get_ipython': <bound method InteractiveShell.get_ipython of <ipykernel.zmqshell.ZMQInteractiveShell object at 0x10e9689d0>>, 'exit': <IPython.core.autocall.ZMQExitAutocall object at 0x10e9a8fd0>, 'quit': <IPython.core.autocall.ZMQExitAutocall object at 0x10e9a8fd0>, '_': {...}, '__': 1.1666666666666667, '___': 1.0333333333333334, '_i': '#if you want to see all the local variables and global variable\\nlocals()', '_ii': 'x = \"hello paji\"\\ndef fun():\\n    print(x)\\nfun()', '_iii': 'x = 23\\ndef fun():\\n    print(x)', '_i1': '[1,2,3]/[1,2,3]', '_i2': '1/2', '_2': 0.5, '_i3': '[1,2,3]*[1,2,3]', '_i4': '[1,2,3] * [1,2,3]', '_i5': '[1,2,3]*2', '_5': [1, 2, 3, 1, 2, 3], '_i6': '[1,2,3]*[4,5,6]', '_i7': 'sum([1,2,3])/sum([1,2,3])', '_7': 1.0, '_i8': 'sum([1,2,3.2])/sum([1,2,3])', '_8': 1.0333333333333334, '_i9': 'sum([1,2,4])/sum([1,2,3])', '_9': 1.1666666666666667, '_i10': 'x = 23\\ndef fun(x):\\n    print(x)', 'x': 'hello paji', 'fun': <function fun at 0x10f455170>, '_i11': 'x = 23\\ndef fun(x):\\n    print(x)\\nfun(23)', '_i12': 'x = 23\\ndef fun(x):\\n    print(x)\\nfun(24)', '_i13': 'x = 23\\ndef fun():\\n    print(x)', '_i14': 'x = 23\\ndef fun():\\n    print(x)', '_i15': 'x = 23\\ndef fun():\\n    print(x)', '_i16': 'x = 23\\ndef fun():\\n    global x\\n    print(x)', '_i17': 'x = 23\\ndef fun():\\n    print(x)', '_i18': 'x = \"hello paji\"\\ndef fun():\\n    print(x)\\nfun()', '_i19': '#if you want to see all the local variables and global variable\\nlocals()', '_19': {...}, '_i20': '#if you want to see all the local variables and global variable\\nprint(locals())\\nprint(globals())'}\n",
      "{'__name__': '__main__', '__doc__': 'Automatically created module for IPython interactive environment', '__package__': None, '__loader__': None, '__spec__': None, '__builtin__': <module 'builtins' (built-in)>, '__builtins__': <module 'builtins' (built-in)>, '_ih': ['', '[1,2,3]/[1,2,3]', '1/2', '[1,2,3]*[1,2,3]', '[1,2,3] * [1,2,3]', '[1,2,3]*2', '[1,2,3]*[4,5,6]', 'sum([1,2,3])/sum([1,2,3])', 'sum([1,2,3.2])/sum([1,2,3])', 'sum([1,2,4])/sum([1,2,3])', 'x = 23\\ndef fun(x):\\n    print(x)', 'x = 23\\ndef fun(x):\\n    print(x)\\nfun(23)', 'x = 23\\ndef fun(x):\\n    print(x)\\nfun(24)', 'x = 23\\ndef fun():\\n    print(x)', 'x = 23\\ndef fun():\\n    print(x)', 'x = 23\\ndef fun():\\n    print(x)', 'x = 23\\ndef fun():\\n    global x\\n    print(x)', 'x = 23\\ndef fun():\\n    print(x)', 'x = \"hello paji\"\\ndef fun():\\n    print(x)\\nfun()', '#if you want to see all the local variables and global variable\\nlocals()', '#if you want to see all the local variables and global variable\\nprint(locals())\\nprint(globals())'], '_oh': {2: 0.5, 5: [1, 2, 3, 1, 2, 3], 7: 1.0, 8: 1.0333333333333334, 9: 1.1666666666666667, 19: {...}}, '_dh': ['/Users/rohankittu/Desktop/rohan/back_end/python_level_2'], 'In': ['', '[1,2,3]/[1,2,3]', '1/2', '[1,2,3]*[1,2,3]', '[1,2,3] * [1,2,3]', '[1,2,3]*2', '[1,2,3]*[4,5,6]', 'sum([1,2,3])/sum([1,2,3])', 'sum([1,2,3.2])/sum([1,2,3])', 'sum([1,2,4])/sum([1,2,3])', 'x = 23\\ndef fun(x):\\n    print(x)', 'x = 23\\ndef fun(x):\\n    print(x)\\nfun(23)', 'x = 23\\ndef fun(x):\\n    print(x)\\nfun(24)', 'x = 23\\ndef fun():\\n    print(x)', 'x = 23\\ndef fun():\\n    print(x)', 'x = 23\\ndef fun():\\n    print(x)', 'x = 23\\ndef fun():\\n    global x\\n    print(x)', 'x = 23\\ndef fun():\\n    print(x)', 'x = \"hello paji\"\\ndef fun():\\n    print(x)\\nfun()', '#if you want to see all the local variables and global variable\\nlocals()', '#if you want to see all the local variables and global variable\\nprint(locals())\\nprint(globals())'], 'Out': {2: 0.5, 5: [1, 2, 3, 1, 2, 3], 7: 1.0, 8: 1.0333333333333334, 9: 1.1666666666666667, 19: {...}}, 'get_ipython': <bound method InteractiveShell.get_ipython of <ipykernel.zmqshell.ZMQInteractiveShell object at 0x10e9689d0>>, 'exit': <IPython.core.autocall.ZMQExitAutocall object at 0x10e9a8fd0>, 'quit': <IPython.core.autocall.ZMQExitAutocall object at 0x10e9a8fd0>, '_': {...}, '__': 1.1666666666666667, '___': 1.0333333333333334, '_i': '#if you want to see all the local variables and global variable\\nlocals()', '_ii': 'x = \"hello paji\"\\ndef fun():\\n    print(x)\\nfun()', '_iii': 'x = 23\\ndef fun():\\n    print(x)', '_i1': '[1,2,3]/[1,2,3]', '_i2': '1/2', '_2': 0.5, '_i3': '[1,2,3]*[1,2,3]', '_i4': '[1,2,3] * [1,2,3]', '_i5': '[1,2,3]*2', '_5': [1, 2, 3, 1, 2, 3], '_i6': '[1,2,3]*[4,5,6]', '_i7': 'sum([1,2,3])/sum([1,2,3])', '_7': 1.0, '_i8': 'sum([1,2,3.2])/sum([1,2,3])', '_8': 1.0333333333333334, '_i9': 'sum([1,2,4])/sum([1,2,3])', '_9': 1.1666666666666667, '_i10': 'x = 23\\ndef fun(x):\\n    print(x)', 'x': 'hello paji', 'fun': <function fun at 0x10f455170>, '_i11': 'x = 23\\ndef fun(x):\\n    print(x)\\nfun(23)', '_i12': 'x = 23\\ndef fun(x):\\n    print(x)\\nfun(24)', '_i13': 'x = 23\\ndef fun():\\n    print(x)', '_i14': 'x = 23\\ndef fun():\\n    print(x)', '_i15': 'x = 23\\ndef fun():\\n    print(x)', '_i16': 'x = 23\\ndef fun():\\n    global x\\n    print(x)', '_i17': 'x = 23\\ndef fun():\\n    print(x)', '_i18': 'x = \"hello paji\"\\ndef fun():\\n    print(x)\\nfun()', '_i19': '#if you want to see all the local variables and global variable\\nlocals()', '_19': {...}, '_i20': '#if you want to see all the local variables and global variable\\nprint(locals())\\nprint(globals())'}\n"
     ]
    }
   ],
   "source": [
    "#if you want to see all the local variables and global variable in a program.\n",
    "print(locals())\n",
    "print(globals())"
   ]
  },
  {
   "cell_type": "code",
   "execution_count": 24,
   "metadata": {},
   "outputs": [
    {
     "data": {
      "text/plain": [
       "'hello rohan'"
      ]
     },
     "execution_count": 24,
     "metadata": {},
     "output_type": "execute_result"
    }
   ],
   "source": [
    "#assigning the function to the variable\n",
    "def he(strm = \"rohan\"):\n",
    "    return \"hello\"+\" \"+strm\n",
    "#passing on the function name.\n",
    "funck = he\n",
    "funck()"
   ]
  },
  {
   "cell_type": "markdown",
   "metadata": {},
   "source": [
    "## nested functions"
   ]
  },
  {
   "cell_type": "code",
   "execution_count": 27,
   "metadata": {},
   "outputs": [
    {
     "name": "stdout",
     "output_type": "stream",
     "text": [
      "welcome roh\n",
      "get out roh\n"
     ]
    }
   ],
   "source": [
    "#we can not call nested functions outside the outer function.\n",
    "def hello(name = \"roh\"):\n",
    "    def welcome():\n",
    "        return \"welcome \"+name\n",
    "    def getOut():\n",
    "        return \"get out \"+name\n",
    "    print(welcome())\n",
    "    print(getOut())\n",
    "hello()"
   ]
  },
  {
   "cell_type": "markdown",
   "metadata": {},
   "source": [
    "## passing functions and returning functions"
   ]
  },
  {
   "cell_type": "code",
   "execution_count": 28,
   "metadata": {},
   "outputs": [
    {
     "data": {
      "text/plain": [
       "'the name is rajveer'"
      ]
     },
     "execution_count": 28,
     "metadata": {},
     "output_type": "execute_result"
    }
   ],
   "source": [
    "def name(name = \"rajveer\"):\n",
    "    return \"the name is \"+name\n",
    "#passing function as an argument\n",
    "def ran(name):\n",
    "    #returning the function\n",
    "    return name\n",
    "f=ran(name)\n",
    "f()"
   ]
  },
  {
   "cell_type": "markdown",
   "metadata": {},
   "source": [
    "## creating your own decorator\n",
    "\n",
    "long way"
   ]
  },
  {
   "cell_type": "code",
   "execution_count": 33,
   "metadata": {},
   "outputs": [
    {
     "name": "stdout",
     "output_type": "stream",
     "text": [
      "oneliner function\n",
      "hello\n"
     ]
    }
   ],
   "source": [
    "def create_decorator(fu):\n",
    "    def hell():\n",
    "        fu()\n",
    "        print(\"hello\")\n",
    "    return hell\n",
    "def oneliner():\n",
    "    print(\"oneliner function\")\n",
    "    \n",
    "oneliner = create_decorator(oneliner)\n",
    "oneliner()"
   ]
  },
  {
   "cell_type": "markdown",
   "metadata": {},
   "source": [
    "short way ,the both the results would be same"
   ]
  },
  {
   "cell_type": "code",
   "execution_count": 35,
   "metadata": {},
   "outputs": [
    {
     "name": "stdout",
     "output_type": "stream",
     "text": [
      "oneliner function\n",
      "hello\n"
     ]
    }
   ],
   "source": [
    "#the decorator function\n",
    "def create_decorator(fu):\n",
    "    def hell():\n",
    "        fu()\n",
    "        print(\"hello\")\n",
    "    return hell\n",
    "\n",
    "#init the decorator\n",
    "@create_decorator\n",
    "def oneliner():\n",
    "    print(\"oneliner function\")\n",
    "\n",
    "oneliner()"
   ]
  },
  {
   "cell_type": "markdown",
   "metadata": {},
   "source": [
    "## Name and Main"
   ]
  },
  {
   "cell_type": "code",
   "execution_count": 41,
   "metadata": {},
   "outputs": [],
   "source": [
    "#refere to pyfile1\n",
    "import pyfile1"
   ]
  },
  {
   "cell_type": "code",
   "execution_count": 40,
   "metadata": {},
   "outputs": [],
   "source": [
    "#refer to pyfile2\n",
    "import pyfile2"
   ]
  },
  {
   "cell_type": "code",
   "execution_count": null,
   "metadata": {},
   "outputs": [],
   "source": []
  }
 ],
 "metadata": {
  "kernelspec": {
   "display_name": "Python 3",
   "language": "python",
   "name": "python3"
  },
  "language_info": {
   "codemirror_mode": {
    "name": "ipython",
    "version": 3
   },
   "file_extension": ".py",
   "mimetype": "text/x-python",
   "name": "python",
   "nbconvert_exporter": "python",
   "pygments_lexer": "ipython3",
   "version": "3.7.6"
  }
 },
 "nbformat": 4,
 "nbformat_minor": 2
}
